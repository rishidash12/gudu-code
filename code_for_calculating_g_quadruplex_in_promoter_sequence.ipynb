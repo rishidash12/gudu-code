{
  "nbformat": 4,
  "nbformat_minor": 0,
  "metadata": {
    "colab": {
      "provenance": [],
      "toc_visible": true,
      "authorship_tag": "ABX9TyNHeN+SrzpxFFZF3860iwW2",
      "include_colab_link": true
    },
    "kernelspec": {
      "name": "python3",
      "display_name": "Python 3"
    },
    "language_info": {
      "name": "python"
    }
  },
  "cells": [
    {
      "cell_type": "markdown",
      "metadata": {
        "id": "view-in-github",
        "colab_type": "text"
      },
      "source": [
        "<a href=\"https://colab.research.google.com/github/rishidash12/gudu-code/blob/main/code_for_calculating_g_quadruplex_in_promoter_sequence.ipynb\" target=\"_parent\"><img src=\"https://colab.research.google.com/assets/colab-badge.svg\" alt=\"Open In Colab\"/></a>"
      ]
    },
    {
      "cell_type": "code",
      "execution_count": 2,
      "metadata": {
        "colab": {
          "base_uri": "https://localhost:8080/"
        },
        "id": "TpiEjCSErd4Z",
        "outputId": "fb5d0a5e-6280-4d8a-d8cd-690a7f53521f"
      },
      "outputs": [
        {
          "output_type": "stream",
          "name": "stdout",
          "text": [
            "Total G-quadruplex motifs found: 2\n",
            "\n",
            "G4-1: Start=4 End=31 Length=28\n",
            "Sequence: GGGTGGTGAGGGTAGGGAGGGTAGCGGG\n",
            "\n",
            "G4-2: Start=50 End=70 Length=21\n",
            "Sequence: GGGTTTGGGAGGGTAGGAGGG\n",
            "\n"
          ]
        }
      ],
      "source": [
        "import re\n",
        "\n",
        "def find_g_quadruplexes(sequence):\n",
        "    # Convert to uppercase and remove non-ATGCN chars\n",
        "    sequence = re.sub(r'[^ATGCN]', '', sequence.upper())\n",
        "\n",
        "    # G-quadruplex pattern\n",
        "    g4_pattern = r'(G{3,})[ATCGN]{1,7}(G{3,})[ATCGN]{1,7}(G{3,})[ATCGN]{1,7}(G{3,})'\n",
        "\n",
        "    matches = re.finditer(g4_pattern, sequence)\n",
        "\n",
        "    results = []\n",
        "    for match in matches:\n",
        "        start = match.start()\n",
        "        end = match.end()\n",
        "        matched_seq = match.group()\n",
        "        results.append({\n",
        "            'start': start + 1,  # 1-based index\n",
        "            'end': end,\n",
        "            'sequence': matched_seq,\n",
        "            'length': end - start\n",
        "        })\n",
        "\n",
        "    return results\n",
        "\n",
        "# Example: promoter sequence (replace with actual sequence)\n",
        "promoter_sequence = \"\"\"\n",
        "ATCGGGTGGTGAGGGTAGGGAGGGTAGCGGGTAGCGTAGCGTAGCTAGCGGGTTTGGGAGGGTAGGAGGGTGTT\n",
        "\"\"\"\n",
        "\n",
        "# Find G-quadruplexes\n",
        "g4_hits = find_g_quadruplexes(promoter_sequence)\n",
        "\n",
        "# Print results\n",
        "print(f\"Total G-quadruplex motifs found: {len(g4_hits)}\\n\")\n",
        "for i, hit in enumerate(g4_hits, 1):\n",
        "    print(f\"G4-{i}: Start={hit['start']} End={hit['end']} Length={hit['length']}\\nSequence: {hit['sequence']}\\n\")\n"
      ]
    },
    {
      "cell_type": "code",
      "source": [
        "# Import required module\n",
        "import re  # Regular expressions module for pattern matching\n",
        "\n",
        "# Function to find G-quadruplex motifs using a regex pattern\n",
        "def find_g_quadruplexes(sequence):\n",
        "    # Convert sequence to uppercase and remove any unwanted characters\n",
        "    sequence = re.sub(r'[^ATGCN]', '', sequence.upper())\n",
        "\n",
        "    # Define the G-quadruplex motif pattern:\n",
        "    # Four stretches of ≥3 guanines separated by loops of 1–7 nucleotides\n",
        "    g4_pattern = r'(G{3,})[ATCGN]{1,7}(G{3,})[ATCGN]{1,7}(G{3,})[ATCGN]{1,7}(G{3,})'\n",
        "\n",
        "    # Find all matching patterns using regular expressions\n",
        "    matches = re.finditer(g4_pattern, sequence)\n",
        "\n",
        "    # Store all matched G4 motifs\n",
        "    results = []\n",
        "    for match in matches:\n",
        "        start = match.start()          # Start index (0-based)\n",
        "        end = match.end()              # End index\n",
        "        matched_seq = match.group()    # The actual sequence of the motif\n",
        "        results.append({\n",
        "            'start': start + 1,        # Convert to 1-based indexing\n",
        "            'end': end,\n",
        "            'sequence': matched_seq,\n",
        "            'length': end - start\n",
        "        })\n",
        "\n",
        "    return results\n",
        "\n",
        "# Function to get the reverse complement of a DNA sequence\n",
        "def reverse_complement(seq):\n",
        "    # Define base-pair complements\n",
        "    complement = str.maketrans(\"ATCG\", \"TAGC\")\n",
        "    # Translate to complement and reverse the string\n",
        "    return seq.translate(complement)[::-1]\n",
        "\n",
        "# === MAIN SECTION ===\n",
        "\n",
        "# 🔽 Paste your promoter sequence directly here (multi-line string allowed)\n",
        "promoter_sequence = \"\"\"\n",
        "ATCGGGTGGTGAGGGTAGGGAGGGTAGCGGGTAGCGTAGCGTAGCTAGCGGGTTTGGGAGGGTAGGAGGGTGTT\n",
        "\"\"\"\n",
        "\n",
        "# Find G-quadruplexes on the forward strand\n",
        "forward_hits = find_g_quadruplexes(promoter_sequence)\n",
        "\n",
        "# Get the reverse complement of the sequence\n",
        "reverse_seq = reverse_complement(promoter_sequence)\n",
        "\n",
        "# Find G-quadruplexes on the reverse strand\n",
        "reverse_hits = find_g_quadruplexes(reverse_seq)\n",
        "\n",
        "# === OUTPUT RESULTS ===\n",
        "\n",
        "# Print results from the forward strand\n",
        "print(f\"\\n🔹 Forward Strand: Total G-quadruplex motifs found: {len(forward_hits)}\")\n",
        "for i, hit in enumerate(forward_hits, 1):\n",
        "    print(f\"G4-FWD-{i}: Start={hit['start']} End={hit['end']} Length={hit['length']}\\nSequence: {hit['sequence']}\\n\")\n",
        "\n",
        "# Print results from the reverse complement strand\n",
        "print(f\"\\n🔹 Reverse Strand (complement): Total G-quadruplex motifs found: {len(reverse_hits)}\")\n",
        "for i, hit in enumerate(reverse_hits, 1):\n",
        "    print(f\"G4-REV-{i}: Start={hit['start']} End={hit['end']} Length={hit['length']}\\nSequence: {hit['sequence']}\\n\")\n"
      ],
      "metadata": {
        "colab": {
          "base_uri": "https://localhost:8080/"
        },
        "id": "A1drHbx15tFP",
        "outputId": "90bbcd62-e481-4708-8442-4d4062a84ceb"
      },
      "execution_count": 3,
      "outputs": [
        {
          "output_type": "stream",
          "name": "stdout",
          "text": [
            "\n",
            "🔹 Forward Strand: Total G-quadruplex motifs found: 2\n",
            "G4-FWD-1: Start=4 End=31 Length=28\n",
            "Sequence: GGGTGGTGAGGGTAGGGAGGGTAGCGGG\n",
            "\n",
            "G4-FWD-2: Start=50 End=70 Length=21\n",
            "Sequence: GGGTTTGGGAGGGTAGGAGGG\n",
            "\n",
            "\n",
            "🔹 Reverse Strand (complement): Total G-quadruplex motifs found: 0\n"
          ]
        }
      ]
    }
  ]
}